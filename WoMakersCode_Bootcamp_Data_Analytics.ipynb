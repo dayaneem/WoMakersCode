{
  "nbformat": 4,
  "nbformat_minor": 0,
  "metadata": {
    "colab": {
      "provenance": [],
      "include_colab_link": true
    },
    "kernelspec": {
      "name": "python3",
      "display_name": "Python 3"
    },
    "language_info": {
      "name": "python"
    }
  },
  "cells": [
    {
      "cell_type": "markdown",
      "metadata": {
        "id": "view-in-github",
        "colab_type": "text"
      },
      "source": [
        "<a href=\"https://colab.research.google.com/github/dayaneem/WoMakersCode/blob/main/WoMakersCode_Bootcamp_Data_Analytics.ipynb\" target=\"_parent\"><img src=\"https://colab.research.google.com/assets/colab-badge.svg\" alt=\"Open In Colab\"/></a>"
      ]
    },
    {
      "cell_type": "markdown",
      "source": [
        "DESAFIO 1\n",
        "\n",
        "Crie um programa que solicita ao usuário que insira três notas (valores de 0 a 10) e, em seguida, calcule e exiba a média dessas notas.\n",
        "\n",
        "Além disso, informe ao usuário se ele foi aprovado ou reprovado com base na média das notas, considerando a média mínima de aprovação como 6."
      ],
      "metadata": {
        "id": "sdBUCCdzeef3"
      }
    },
    {
      "cell_type": "code",
      "source": [
        "#Execute seu código aqui\n",
        "\n",
        "nota1 = float(input('Digite a primeira nota: '))\n",
        "nota2 = float(input('Digite a segunda nota: '))\n",
        "nota3 = float(input('Digite a segunda nota: '))\n",
        "\n",
        "media = (nota1 + nota2 + nota3) / 3\n",
        "\n",
        "if media >= 6:\n",
        "  status = \"aprovado\"\n",
        "else:\n",
        "  status = \"reprovado\"\n",
        "\n",
        "print(f\"Sua média é {media} e você está {status}.\")"
      ],
      "metadata": {
        "id": "j16D0tJ4evJ-"
      },
      "execution_count": null,
      "outputs": []
    },
    {
      "cell_type": "markdown",
      "source": [
        "DESAFIO 2\n",
        "\n",
        "Crie um programa que solicita ao usuário que insira um número inteiro e, em seguida, verifica se o número é par ou ímpar.\n",
        "\n",
        "O programa deve exibir uma mensagem indicando se o número é par ou ímpar."
      ],
      "metadata": {
        "id": "ClKDF5t4gEyu"
      }
    },
    {
      "cell_type": "code",
      "source": [
        "#Execute seu código aqui\n",
        "\n",
        "numero = int(input(\"Insira um número inteiro: \"))\n",
        "\n",
        "if (numero % 2) == 0:\n",
        "  print(f\"O número {numero} é par.\")\n",
        "else:\n",
        "  print(f\"O número {numero} é ímpar.\")"
      ],
      "metadata": {
        "id": "GWkFk92kfuiO"
      },
      "execution_count": null,
      "outputs": []
    },
    {
      "cell_type": "markdown",
      "source": [
        "DESAFIO 3\n",
        "\n",
        "Crie um programa que verifica se uma palavra fornecida pelo usuário é um palíndromo ou não.\n",
        "\n",
        "(Um palíndromo é uma palavra que é lida da mesma forma tanto da esquerda para a direita quanto da direita para a esquerda.)"
      ],
      "metadata": {
        "id": "MmsZIAj-e0NX"
      }
    },
    {
      "cell_type": "code",
      "source": [
        "#Execute seu código aqui\n",
        "\n",
        "palavra = input(\"Digite a palavra a ser verificada: \")\n",
        "\n",
        "palavra_format = palavra.lower().replace(\" \", \"\").replace(\"-\", \"\")\n",
        "palavra_invertida = palavra[::-1]\n",
        "\n",
        "if palavra_format == palavra_invertida:\n",
        "  print(f\"A palavra {palavra} é um palíndromo.\")\n",
        "else:\n",
        "  print(f\"A palavra {palavra} não é um palíndromo.\")"
      ],
      "metadata": {
        "id": "PobFqQqafLNj"
      },
      "execution_count": null,
      "outputs": []
    },
    {
      "cell_type": "markdown",
      "source": [
        "DESAFIO 4\n",
        "\n",
        "Crie um programa que solicita ao usuário que insira um número inteiro positivo e, em seguida, calcula e exibe o fatorial desse número.\n",
        "\n",
        "(O fatorial de um número é o produto de todos os números inteiros positivos de 1 até o próprio número.)"
      ],
      "metadata": {
        "id": "9WPRqUfIgLQK"
      }
    },
    {
      "cell_type": "code",
      "source": [
        "#Execute seu código aqui\n",
        "\n",
        "import math\n",
        "\n",
        "numero = int(input(\"Digite um número inteiro positivo: \"))\n",
        "\n",
        "resultado = math.factorial(numero)\n",
        "\n",
        "print(f\"O fatorial do número {numero} é {resultado}.\")"
      ],
      "metadata": {
        "id": "B3VE36bRgJWu"
      },
      "execution_count": null,
      "outputs": []
    },
    {
      "cell_type": "markdown",
      "source": [
        "DESAFIO 5\n",
        "\n",
        "Crie um programa que permita ao usuário gerenciar suas tarefas diárias. O programa deve oferecer as seguintes funcionalidades:\n",
        "\n",
        "*   Adicionar uma nova tarefa;\n",
        "*   Visualizar todas as tarefas;\n",
        "*   Marcar uma tarefa como concluída;\n",
        "*   Remover uma tarefa;\n",
        "*   Sair do programa.\n",
        "\n",
        "(Você pode implementar essas funcionalidades usando listas para armazenar as tarefas e estruturas de controle como loops e condicionais para interagir com o usuário.)"
      ],
      "metadata": {
        "id": "dLmeFEi2fO9f"
      }
    },
    {
      "cell_type": "code",
      "source": [
        "#Execute seu código aqui\n",
        "\n",
        "tarefas_diarias = []\n",
        "\n",
        "def menu():\n",
        "    print('''\n",
        "    ########### TAREFAS DIÁRIAS ############\n",
        "\n",
        "    ################# MENU #################\n",
        "    #   [1] Adicionar nova tarefa          #\n",
        "    #   [2] Listar tarefas                 #\n",
        "    #   [3] Marcar tarefa como concluída   #\n",
        "    #   [4] Remover tarefa                 #\n",
        "    #   [5] Sair do programa               #\n",
        "    ########################################\n",
        "    ''')\n",
        "\n",
        "def adicionar_tarefa():\n",
        "    tarefa = input(\"Qual tarefa deseja adicionar? \")\n",
        "    tarefas_diarias.append(tarefa)\n",
        "    print(f\"A tarefa {tarefa} foi adicionada com sucesso!\")\n",
        "    main()\n",
        "\n",
        "def listar_tarefas():\n",
        "    print(\"Tarefas Diárias:\\n\")\n",
        "\n",
        "    for tarefa in tarefas_diarias:\n",
        "        print(f\"- {tarefa}\")\n",
        "\n",
        "def concluir_tarefa():\n",
        "    listar_tarefas()\n",
        "    tarefa_concluida = input(\"Qual tarefa deseja marcar como concluída? \")\n",
        "\n",
        "    if tarefa_concluida in tarefas_diarias:\n",
        "        indice = tarefas_diarias.index(tarefa_concluida)\n",
        "        tarefas_diarias[indice] = f\"{tarefa_concluida} - concluída.\"\n",
        "        print(f\"A tarefa {tarefa_concluida} foi alterada com sucesso!\")\n",
        "\n",
        "    else:\n",
        "        print(f\"A tarefa {tarefa_concluida} não está na lista.\")\n",
        "\n",
        "    main()\n",
        "\n",
        "def remover_tarefa():\n",
        "    listar_tarefas()\n",
        "    tarefa_removida = input(\"Qual tarefa deseja remover da lista? \")\n",
        "\n",
        "    if tarefa_removida in tarefas_diarias:\n",
        "        tarefas_diarias.remove(tarefa_removida)\n",
        "        print(f\"A tarefa {tarefa_removida} foi removida com sucesso!\")\n",
        "\n",
        "    else:\n",
        "        print(f\"A tarefa {tarefa_removida} não está na lista.\")\n",
        "\n",
        "    main()\n",
        "\n",
        "def sair():\n",
        "    print(\"Você está saindo do programa.\")\n",
        "\n",
        "def escolher_opcao():\n",
        "    try:\n",
        "        opcao_escolhida = int(input('Digite a opção desejada: '))\n",
        "        print(f'Você escolheu a opção: {opcao_escolhida}.\\n')\n",
        "\n",
        "        if opcao_escolhida == 1:\n",
        "            adicionar_tarefa()\n",
        "\n",
        "        elif opcao_escolhida == 2:\n",
        "            listar_tarefas()\n",
        "            main()\n",
        "\n",
        "        elif opcao_escolhida == 3:\n",
        "            concluir_tarefa()\n",
        "\n",
        "        elif opcao_escolhida == 4:\n",
        "            remover_tarefa()\n",
        "\n",
        "        elif opcao_escolhida == 5:\n",
        "            sair()\n",
        "\n",
        "        else:\n",
        "            print(\"Opção inválida!\")\n",
        "\n",
        "    except:\n",
        "        main()\n",
        "\n",
        "def main():\n",
        "    menu()\n",
        "    escolher_opcao()\n",
        "\n",
        "if __name__ == '__main__':\n",
        "    main()\n",
        "\n"
      ],
      "metadata": {
        "id": "8oExqSgagGzn"
      },
      "execution_count": null,
      "outputs": []
    }
  ]
}